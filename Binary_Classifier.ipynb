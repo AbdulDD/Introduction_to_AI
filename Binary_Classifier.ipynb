{
 "cells": [
  {
   "cell_type": "markdown",
   "id": "japanese-salon",
   "metadata": {
    "papermill": {
     "duration": 0.030931,
     "end_time": "2022-02-02T07:21:27.778122",
     "exception": false,
     "start_time": "2022-02-02T07:21:27.747191",
     "status": "completed"
    },
    "tags": []
   },
   "source": [
    "Step 1. Importing libraries."
   ]
  },
  {
   "cell_type": "code",
   "execution_count": 1,
   "id": "provincial-arlington",
   "metadata": {
    "_cell_guid": "b1076dfc-b9ad-4769-8c92-a6c4dae69d19",
    "_uuid": "8f2839f25d086af736a60e9eeb907d3b93b6e0e5",
    "execution": {
     "iopub.execute_input": "2022-02-02T07:21:27.844001Z",
     "iopub.status.busy": "2022-02-02T07:21:27.842631Z",
     "iopub.status.idle": "2022-02-02T07:21:28.816346Z",
     "shell.execute_reply": "2022-02-02T07:21:28.815264Z",
     "shell.execute_reply.started": "2022-02-02T07:13:01.601191Z"
    },
    "papermill": {
     "duration": 1.008011,
     "end_time": "2022-02-02T07:21:28.816578",
     "exception": false,
     "start_time": "2022-02-02T07:21:27.808567",
     "status": "completed"
    },
    "tags": []
   },
   "outputs": [],
   "source": [
    "import pandas as pd\n",
    "import numpy as np\n",
    "import matplotlib.pyplot as plt\n",
    "import seaborn as sns\n",
    "from scipy import stats"
   ]
  },
  {
   "cell_type": "markdown",
   "id": "functioning-nashville",
   "metadata": {
    "papermill": {
     "duration": 0.027941,
     "end_time": "2022-02-02T07:21:28.877124",
     "exception": false,
     "start_time": "2022-02-02T07:21:28.849183",
     "status": "completed"
    },
    "tags": []
   },
   "source": [
    "Step 2. Add dataset"
   ]
  },
  {
   "cell_type": "code",
   "execution_count": 2,
   "id": "public-stockholm",
   "metadata": {
    "execution": {
     "iopub.execute_input": "2022-02-02T07:21:28.938737Z",
     "iopub.status.busy": "2022-02-02T07:21:28.937997Z",
     "iopub.status.idle": "2022-02-02T07:21:33.779755Z",
     "shell.execute_reply": "2022-02-02T07:21:33.779093Z",
     "shell.execute_reply.started": "2022-02-02T07:13:04.698807Z"
    },
    "papermill": {
     "duration": 4.873415,
     "end_time": "2022-02-02T07:21:33.779914",
     "exception": false,
     "start_time": "2022-02-02T07:21:28.906499",
     "status": "completed"
    },
    "tags": []
   },
   "outputs": [
    {
     "name": "stderr",
     "output_type": "stream",
     "text": [
      "/opt/conda/lib/python3.7/site-packages/IPython/core/interactiveshell.py:3166: DtypeWarning: Columns (1,2,3,7,8,9,11,12,13,14,17,18,19) have mixed types.Specify dtype option on import or set low_memory=False.\n",
      "  interactivity=interactivity, compiler=compiler, result=result)\n"
     ]
    }
   ],
   "source": [
    "Data= pd.read_csv('../input/pak-ec-dataset/Pakistan Largest Ecommerce Dataset.csv')"
   ]
  },
  {
   "cell_type": "markdown",
   "id": "legal-northeast",
   "metadata": {
    "papermill": {
     "duration": 0.032163,
     "end_time": "2022-02-02T07:21:33.841465",
     "exception": false,
     "start_time": "2022-02-02T07:21:33.809302",
     "status": "completed"
    },
    "tags": []
   },
   "source": [
    "Step 3. Pre-processing\n",
    "1. Understanding the Dataset.\n",
    "2. Cleaning the data and removeing columns that are not required."
   ]
  },
  {
   "cell_type": "code",
   "execution_count": 3,
   "id": "portuguese-robertson",
   "metadata": {
    "execution": {
     "iopub.execute_input": "2022-02-02T07:21:33.907754Z",
     "iopub.status.busy": "2022-02-02T07:21:33.906945Z",
     "iopub.status.idle": "2022-02-02T07:21:33.913282Z",
     "shell.execute_reply": "2022-02-02T07:21:33.912713Z",
     "shell.execute_reply.started": "2022-02-02T07:13:24.871326Z"
    },
    "papermill": {
     "duration": 0.043951,
     "end_time": "2022-02-02T07:21:33.913462",
     "exception": false,
     "start_time": "2022-02-02T07:21:33.869511",
     "status": "completed"
    },
    "tags": []
   },
   "outputs": [
    {
     "data": {
      "text/plain": [
       "Index(['item_id', 'status', 'created_at', 'sku', 'price', 'qty_ordered',\n",
       "       'grand_total', 'increment_id', 'category_name_1',\n",
       "       'sales_commission_code', 'discount_amount', 'payment_method',\n",
       "       'Working Date', 'BI Status', ' MV ', 'Year', 'Month', 'Customer Since',\n",
       "       'M-Y', 'FY', 'Customer ID', 'Unnamed: 21', 'Unnamed: 22', 'Unnamed: 23',\n",
       "       'Unnamed: 24', 'Unnamed: 25'],\n",
       "      dtype='object')"
      ]
     },
     "execution_count": 3,
     "metadata": {},
     "output_type": "execute_result"
    }
   ],
   "source": [
    "#Understanding the dataset\n",
    "Data.shape\n",
    "#Data.head()\n",
    "Data.columns"
   ]
  },
  {
   "cell_type": "code",
   "execution_count": 4,
   "id": "talented-thumbnail",
   "metadata": {
    "execution": {
     "iopub.execute_input": "2022-02-02T07:21:33.989954Z",
     "iopub.status.busy": "2022-02-02T07:21:33.989224Z",
     "iopub.status.idle": "2022-02-02T07:21:33.994237Z",
     "shell.execute_reply": "2022-02-02T07:21:33.993680Z",
     "shell.execute_reply.started": "2022-02-02T07:13:27.911419Z"
    },
    "papermill": {
     "duration": 0.049138,
     "end_time": "2022-02-02T07:21:33.994447",
     "exception": false,
     "start_time": "2022-02-02T07:21:33.945309",
     "status": "completed"
    },
    "tags": []
   },
   "outputs": [
    {
     "data": {
      "text/plain": [
       "0                complete\n",
       "1                canceled\n",
       "2                canceled\n",
       "3                complete\n",
       "4          order_refunded\n",
       "                ...      \n",
       "1048570               NaN\n",
       "1048571               NaN\n",
       "1048572               NaN\n",
       "1048573               NaN\n",
       "1048574               NaN\n",
       "Name: status, Length: 1048575, dtype: object"
      ]
     },
     "execution_count": 4,
     "metadata": {},
     "output_type": "execute_result"
    }
   ],
   "source": [
    "# Four columns that we need\n",
    "Data.status\n",
    "#Data.price\n",
    "#Data.category_name_1\n",
    "#Data.payment_method"
   ]
  },
  {
   "cell_type": "code",
   "execution_count": 5,
   "id": "tested-telephone",
   "metadata": {
    "execution": {
     "iopub.execute_input": "2022-02-02T07:21:34.065625Z",
     "iopub.status.busy": "2022-02-02T07:21:34.064874Z",
     "iopub.status.idle": "2022-02-02T07:21:34.094433Z",
     "shell.execute_reply": "2022-02-02T07:21:34.093814Z",
     "shell.execute_reply.started": "2022-02-02T07:13:31.575518Z"
    },
    "papermill": {
     "duration": 0.068112,
     "end_time": "2022-02-02T07:21:34.094650",
     "exception": false,
     "start_time": "2022-02-02T07:21:34.026538",
     "status": "completed"
    },
    "tags": []
   },
   "outputs": [],
   "source": [
    "Data.drop([\"Unnamed: 21\", \"Unnamed: 22\", \"Unnamed: 23\", \"Unnamed: 24\", \"Unnamed: 25\", \"item_id\", \"created_at\", \"Year\", \"sales_commission_code\", \"discount_amount\", \" MV \", \"BI Status\", \"Working Date\", \"M-Y\", \"FY\", \"Customer ID\", \"increment_id\", \"sku\", \"qty_ordered\", \"grand_total\", \"Customer Since\", \"Month\"], axis=1, inplace=True)"
   ]
  },
  {
   "cell_type": "markdown",
   "id": "center-alexander",
   "metadata": {
    "papermill": {
     "duration": 0.028905,
     "end_time": "2022-02-02T07:21:34.153935",
     "exception": false,
     "start_time": "2022-02-02T07:21:34.125030",
     "status": "completed"
    },
    "tags": []
   },
   "source": [
    "Also removing NaN values"
   ]
  },
  {
   "cell_type": "code",
   "execution_count": 6,
   "id": "associate-assistant",
   "metadata": {
    "execution": {
     "iopub.execute_input": "2022-02-02T07:21:34.421262Z",
     "iopub.status.busy": "2022-02-02T07:21:34.419191Z",
     "iopub.status.idle": "2022-02-02T07:21:34.504587Z",
     "shell.execute_reply": "2022-02-02T07:21:34.503671Z",
     "shell.execute_reply.started": "2022-02-02T07:13:34.855675Z"
    },
    "papermill": {
     "duration": 0.320941,
     "end_time": "2022-02-02T07:21:34.504770",
     "exception": false,
     "start_time": "2022-02-02T07:21:34.183829",
     "status": "completed"
    },
    "tags": []
   },
   "outputs": [],
   "source": [
    "Data.dropna(how='all', inplace=True)"
   ]
  },
  {
   "cell_type": "markdown",
   "id": "minor-screw",
   "metadata": {
    "papermill": {
     "duration": 0.028201,
     "end_time": "2022-02-02T07:21:34.563277",
     "exception": false,
     "start_time": "2022-02-02T07:21:34.535076",
     "status": "completed"
    },
    "tags": []
   },
   "source": [
    "let's look into new dataset"
   ]
  },
  {
   "cell_type": "code",
   "execution_count": 7,
   "id": "economic-container",
   "metadata": {
    "execution": {
     "iopub.execute_input": "2022-02-02T07:21:34.627836Z",
     "iopub.status.busy": "2022-02-02T07:21:34.627139Z",
     "iopub.status.idle": "2022-02-02T07:21:34.673990Z",
     "shell.execute_reply": "2022-02-02T07:21:34.674636Z",
     "shell.execute_reply.started": "2022-02-02T07:13:37.729148Z"
    },
    "papermill": {
     "duration": 0.081031,
     "end_time": "2022-02-02T07:21:34.674827",
     "exception": false,
     "start_time": "2022-02-02T07:21:34.593796",
     "status": "completed"
    },
    "tags": []
   },
   "outputs": [
    {
     "data": {
      "text/plain": [
       "array(['cod', 'ublcreditcard', 'mygateway', 'customercredit',\n",
       "       'cashatdoorstep', 'mcblite', 'internetbanking', 'marketingexpense',\n",
       "       'productcredit', 'financesettlement', 'Payaxis', 'jazzvoucher',\n",
       "       'jazzwallet', 'Easypay', 'Easypay_MA', 'easypay_voucher',\n",
       "       'bankalfalah', 'apg'], dtype=object)"
      ]
     },
     "execution_count": 7,
     "metadata": {},
     "output_type": "execute_result"
    }
   ],
   "source": [
    "# Inspecting New Dataset\n",
    "Data.shape\n",
    "Data.head(4000)\n",
    "#Data.tail()\n",
    "Data.payment_method.unique()"
   ]
  },
  {
   "cell_type": "code",
   "execution_count": 8,
   "id": "emerging-riding",
   "metadata": {
    "execution": {
     "iopub.execute_input": "2022-02-02T07:21:34.740175Z",
     "iopub.status.busy": "2022-02-02T07:21:34.739409Z",
     "iopub.status.idle": "2022-02-02T07:21:36.761079Z",
     "shell.execute_reply": "2022-02-02T07:21:36.760505Z",
     "shell.execute_reply.started": "2022-02-02T07:13:40.742081Z"
    },
    "papermill": {
     "duration": 2.056504,
     "end_time": "2022-02-02T07:21:36.761251",
     "exception": false,
     "start_time": "2022-02-02T07:21:34.704747",
     "status": "completed"
    },
    "tags": []
   },
   "outputs": [],
   "source": [
    "#Setting labels for dataset\n",
    "Data.status.unique()\n",
    "Data.status.replace({\"complete\": 1, \"received\": 1, \"canceled\": 0, \"order_refunded\": 0, \"refund\": 0, \"closed\": 0, \"fraud\":0, \"holded\":0, \"exchange\":0, \"pending_paypal\":0, \"paid\":0, \"\\\\N\":0, \"cod\":0, \"pending\":0, \"processing\":0,\"nan\":0, \"payment_review\":0}, inplace=True)\n",
    "Data.category_name_1.replace({\"Women's Fashion\":0.1, \"Beauty & Grooming\":0.2, \"Soghaat\": 0.3, \"Mobiles & Tablets\": 0.4, \"Appliances\": 0.5, \"Home & Living\": 0.6, \"Men's Fashion\":0.7, \"Kids & Baby\":0.8, \"\\\\N\":0.9, \"Entertainment\":0.11, \"Computing\":0.22, \"Superstore\":0.33, \"Health & Sports\":0.44, \"Books\":0.55, \"School & Education\":0.66, \"Others\":0.77}, inplace=True)\n",
    "Data.payment_method.replace({\"cod\": 1.1, \"ublcreditcard\": 1.2, \"mygateway\": 1.3, \"customercredit\": 1.4, \"cashatdoorstep\": 1.5, \"mcblite\": 1.6, \"internetbanking\":1.7, \"marketingexpense\":1.8, \"productcredit\":1.9, \"financesettlement\":1.11, \"Payaxis\":1.22, \"jazzvoucher\":1.33, \"jazzwallet\":1.44, \"Easypay\":1.55, \"Easypay_MA\":1.66,\"easypay_voucher\":1.77, \"bankalfalah\":1.88, \"apg\":1.99}, inplace=True)"
   ]
  },
  {
   "cell_type": "code",
   "execution_count": 9,
   "id": "bearing-secret",
   "metadata": {
    "execution": {
     "iopub.execute_input": "2022-02-02T07:21:36.827174Z",
     "iopub.status.busy": "2022-02-02T07:21:36.826435Z",
     "iopub.status.idle": "2022-02-02T07:21:36.845432Z",
     "shell.execute_reply": "2022-02-02T07:21:36.844747Z",
     "shell.execute_reply.started": "2022-02-02T07:13:43.006467Z"
    },
    "papermill": {
     "duration": 0.054858,
     "end_time": "2022-02-02T07:21:36.845629",
     "exception": false,
     "start_time": "2022-02-02T07:21:36.790771",
     "status": "completed"
    },
    "tags": []
   },
   "outputs": [
    {
     "data": {
      "text/html": [
       "<div>\n",
       "<style scoped>\n",
       "    .dataframe tbody tr th:only-of-type {\n",
       "        vertical-align: middle;\n",
       "    }\n",
       "\n",
       "    .dataframe tbody tr th {\n",
       "        vertical-align: top;\n",
       "    }\n",
       "\n",
       "    .dataframe thead th {\n",
       "        text-align: right;\n",
       "    }\n",
       "</style>\n",
       "<table border=\"1\" class=\"dataframe\">\n",
       "  <thead>\n",
       "    <tr style=\"text-align: right;\">\n",
       "      <th></th>\n",
       "      <th>status</th>\n",
       "      <th>price</th>\n",
       "      <th>category_name_1</th>\n",
       "      <th>payment_method</th>\n",
       "    </tr>\n",
       "  </thead>\n",
       "  <tbody>\n",
       "    <tr>\n",
       "      <th>0</th>\n",
       "      <td>1.0</td>\n",
       "      <td>1950.0</td>\n",
       "      <td>0.1</td>\n",
       "      <td>1.1</td>\n",
       "    </tr>\n",
       "    <tr>\n",
       "      <th>1</th>\n",
       "      <td>0.0</td>\n",
       "      <td>240.0</td>\n",
       "      <td>0.2</td>\n",
       "      <td>1.1</td>\n",
       "    </tr>\n",
       "    <tr>\n",
       "      <th>2</th>\n",
       "      <td>0.0</td>\n",
       "      <td>2450.0</td>\n",
       "      <td>0.1</td>\n",
       "      <td>1.1</td>\n",
       "    </tr>\n",
       "    <tr>\n",
       "      <th>3</th>\n",
       "      <td>1.0</td>\n",
       "      <td>360.0</td>\n",
       "      <td>0.2</td>\n",
       "      <td>1.1</td>\n",
       "    </tr>\n",
       "    <tr>\n",
       "      <th>4</th>\n",
       "      <td>0.0</td>\n",
       "      <td>555.0</td>\n",
       "      <td>0.3</td>\n",
       "      <td>1.1</td>\n",
       "    </tr>\n",
       "  </tbody>\n",
       "</table>\n",
       "</div>"
      ],
      "text/plain": [
       "   status   price  category_name_1  payment_method\n",
       "0     1.0  1950.0              0.1             1.1\n",
       "1     0.0   240.0              0.2             1.1\n",
       "2     0.0  2450.0              0.1             1.1\n",
       "3     1.0   360.0              0.2             1.1\n",
       "4     0.0   555.0              0.3             1.1"
      ]
     },
     "execution_count": 9,
     "metadata": {},
     "output_type": "execute_result"
    }
   ],
   "source": [
    "Data.head()\n",
    "#Data.tail()\n",
    "#Data.status.nunique()\n",
    "#Data.category_name_1.nunique()\n",
    "#Data.payment_method.nunique()\n",
    "#Data.price.unique()"
   ]
  },
  {
   "cell_type": "code",
   "execution_count": 10,
   "id": "focal-aerospace",
   "metadata": {
    "execution": {
     "iopub.execute_input": "2022-02-02T07:21:36.926783Z",
     "iopub.status.busy": "2022-02-02T07:21:36.919065Z",
     "iopub.status.idle": "2022-02-02T07:21:36.930193Z",
     "shell.execute_reply": "2022-02-02T07:21:36.930795Z",
     "shell.execute_reply.started": "2022-02-02T07:13:45.695568Z"
    },
    "papermill": {
     "duration": 0.054682,
     "end_time": "2022-02-02T07:21:36.931005",
     "exception": false,
     "start_time": "2022-02-02T07:21:36.876323",
     "status": "completed"
    },
    "tags": []
   },
   "outputs": [
    {
     "data": {
      "text/html": [
       "<div>\n",
       "<style scoped>\n",
       "    .dataframe tbody tr th:only-of-type {\n",
       "        vertical-align: middle;\n",
       "    }\n",
       "\n",
       "    .dataframe tbody tr th {\n",
       "        vertical-align: top;\n",
       "    }\n",
       "\n",
       "    .dataframe thead th {\n",
       "        text-align: right;\n",
       "    }\n",
       "</style>\n",
       "<table border=\"1\" class=\"dataframe\">\n",
       "  <thead>\n",
       "    <tr style=\"text-align: right;\">\n",
       "      <th></th>\n",
       "      <th>status</th>\n",
       "      <th>price</th>\n",
       "      <th>category_name_1</th>\n",
       "      <th>payment_method</th>\n",
       "    </tr>\n",
       "  </thead>\n",
       "  <tbody>\n",
       "    <tr>\n",
       "      <th>0</th>\n",
       "      <td>1.0</td>\n",
       "      <td>1950.0</td>\n",
       "      <td>0.1</td>\n",
       "      <td>1.1</td>\n",
       "    </tr>\n",
       "    <tr>\n",
       "      <th>1</th>\n",
       "      <td>0.0</td>\n",
       "      <td>240.0</td>\n",
       "      <td>0.2</td>\n",
       "      <td>1.1</td>\n",
       "    </tr>\n",
       "    <tr>\n",
       "      <th>2</th>\n",
       "      <td>0.0</td>\n",
       "      <td>2450.0</td>\n",
       "      <td>0.1</td>\n",
       "      <td>1.1</td>\n",
       "    </tr>\n",
       "    <tr>\n",
       "      <th>3</th>\n",
       "      <td>1.0</td>\n",
       "      <td>360.0</td>\n",
       "      <td>0.2</td>\n",
       "      <td>1.1</td>\n",
       "    </tr>\n",
       "    <tr>\n",
       "      <th>4</th>\n",
       "      <td>0.0</td>\n",
       "      <td>555.0</td>\n",
       "      <td>0.3</td>\n",
       "      <td>1.1</td>\n",
       "    </tr>\n",
       "    <tr>\n",
       "      <th>...</th>\n",
       "      <td>...</td>\n",
       "      <td>...</td>\n",
       "      <td>...</td>\n",
       "      <td>...</td>\n",
       "    </tr>\n",
       "    <tr>\n",
       "      <th>95</th>\n",
       "      <td>1.0</td>\n",
       "      <td>320.0</td>\n",
       "      <td>0.2</td>\n",
       "      <td>1.1</td>\n",
       "    </tr>\n",
       "    <tr>\n",
       "      <th>96</th>\n",
       "      <td>1.0</td>\n",
       "      <td>4200.0</td>\n",
       "      <td>0.4</td>\n",
       "      <td>1.1</td>\n",
       "    </tr>\n",
       "    <tr>\n",
       "      <th>97</th>\n",
       "      <td>1.0</td>\n",
       "      <td>760.0</td>\n",
       "      <td>0.3</td>\n",
       "      <td>1.1</td>\n",
       "    </tr>\n",
       "    <tr>\n",
       "      <th>98</th>\n",
       "      <td>1.0</td>\n",
       "      <td>435.0</td>\n",
       "      <td>0.3</td>\n",
       "      <td>1.1</td>\n",
       "    </tr>\n",
       "    <tr>\n",
       "      <th>99</th>\n",
       "      <td>1.0</td>\n",
       "      <td>550.0</td>\n",
       "      <td>0.9</td>\n",
       "      <td>1.1</td>\n",
       "    </tr>\n",
       "  </tbody>\n",
       "</table>\n",
       "<p>100 rows × 4 columns</p>\n",
       "</div>"
      ],
      "text/plain": [
       "    status   price  category_name_1  payment_method\n",
       "0      1.0  1950.0              0.1             1.1\n",
       "1      0.0   240.0              0.2             1.1\n",
       "2      0.0  2450.0              0.1             1.1\n",
       "3      1.0   360.0              0.2             1.1\n",
       "4      0.0   555.0              0.3             1.1\n",
       "..     ...     ...              ...             ...\n",
       "95     1.0   320.0              0.2             1.1\n",
       "96     1.0  4200.0              0.4             1.1\n",
       "97     1.0   760.0              0.3             1.1\n",
       "98     1.0   435.0              0.3             1.1\n",
       "99     1.0   550.0              0.9             1.1\n",
       "\n",
       "[100 rows x 4 columns]"
      ]
     },
     "execution_count": 10,
     "metadata": {},
     "output_type": "execute_result"
    }
   ],
   "source": [
    "Data.head(100)\n",
    "#Mean_status= Data.status.mean()\n",
    "#Data= Data.fillna(0)\n",
    "#D=Data.isnull().mean()\n",
    "#D.plot.bar()\n",
    "#Data.head(400)"
   ]
  },
  {
   "cell_type": "code",
   "execution_count": 11,
   "id": "fuzzy-presence",
   "metadata": {
    "execution": {
     "iopub.execute_input": "2022-02-02T07:21:36.996180Z",
     "iopub.status.busy": "2022-02-02T07:21:36.995542Z",
     "iopub.status.idle": "2022-02-02T07:21:37.224913Z",
     "shell.execute_reply": "2022-02-02T07:21:37.224240Z",
     "shell.execute_reply.started": "2022-02-02T07:13:49.125350Z"
    },
    "papermill": {
     "duration": 0.263552,
     "end_time": "2022-02-02T07:21:37.225164",
     "exception": false,
     "start_time": "2022-02-02T07:21:36.961612",
     "status": "completed"
    },
    "tags": []
   },
   "outputs": [
    {
     "data": {
      "text/plain": [
       "<AxesSubplot:>"
      ]
     },
     "execution_count": 11,
     "metadata": {},
     "output_type": "execute_result"
    },
    {
     "data": {
      "image/png": "[encoded data removed]",
      "text/plain": [
       "<Figure size 432x288 with 1 Axes>"
      ]
     },
     "metadata": {
      "needs_background": "light"
     },
     "output_type": "display_data"
    }
   ],
   "source": [
    "Data_check= Data.isnull().mean()\n",
    "Data_check.plot.bar()"
   ]
  },
  {
   "cell_type": "code",
   "execution_count": 12,
   "id": "successful-brunei",
   "metadata": {
    "execution": {
     "iopub.execute_input": "2022-02-02T07:21:37.297241Z",
     "iopub.status.busy": "2022-02-02T07:21:37.295333Z",
     "iopub.status.idle": "2022-02-02T07:21:37.472849Z",
     "shell.execute_reply": "2022-02-02T07:21:37.473598Z",
     "shell.execute_reply.started": "2022-02-02T07:13:52.753521Z"
    },
    "papermill": {
     "duration": 0.216051,
     "end_time": "2022-02-02T07:21:37.473788",
     "exception": false,
     "start_time": "2022-02-02T07:21:37.257737",
     "status": "completed"
    },
    "tags": []
   },
   "outputs": [
    {
     "data": {
      "text/plain": [
       "<AxesSubplot:>"
      ]
     },
     "execution_count": 12,
     "metadata": {},
     "output_type": "execute_result"
    },
    {
     "data": {
      "image/png": "[encoded data removed]",
      "text/plain": [
       "<Figure size 432x288 with 1 Axes>"
      ]
     },
     "metadata": {
      "needs_background": "light"
     },
     "output_type": "display_data"
    }
   ],
   "source": [
    "# Fill null values with \"0\"\n",
    "Data= Data.fillna(0)\n",
    "Data_check2= Data.isnull().mean()\n",
    "Data_check2.plot.bar()"
   ]
  },
  {
   "cell_type": "markdown",
   "id": "encouraging-dryer",
   "metadata": {
    "papermill": {
     "duration": 0.032148,
     "end_time": "2022-02-02T07:21:37.538048",
     "exception": false,
     "start_time": "2022-02-02T07:21:37.505900",
     "status": "completed"
    },
    "tags": []
   },
   "source": [
    "Let's look for outliers in price."
   ]
  },
  {
   "cell_type": "code",
   "execution_count": 13,
   "id": "alternate-wireless",
   "metadata": {
    "execution": {
     "iopub.execute_input": "2022-02-02T07:21:37.608090Z",
     "iopub.status.busy": "2022-02-02T07:21:37.607026Z",
     "iopub.status.idle": "2022-02-02T07:21:37.950281Z",
     "shell.execute_reply": "2022-02-02T07:21:37.950837Z",
     "shell.execute_reply.started": "2022-02-02T07:13:55.705835Z"
    },
    "papermill": {
     "duration": 0.380503,
     "end_time": "2022-02-02T07:21:37.951037",
     "exception": false,
     "start_time": "2022-02-02T07:21:37.570534",
     "status": "completed"
    },
    "tags": []
   },
   "outputs": [
    {
     "data": {
      "text/plain": [
       "<AxesSubplot:xlabel='price'>"
      ]
     },
     "execution_count": 13,
     "metadata": {},
     "output_type": "execute_result"
    },
    {
     "data": {
      "image/png": "[encoded data removed]",
      "text/plain": [
       "<Figure size 432x288 with 1 Axes>"
      ]
     },
     "metadata": {
      "needs_background": "light"
     },
     "output_type": "display_data"
    }
   ],
   "source": [
    "sns.boxplot(x= Data.price)"
   ]
  },
  {
   "cell_type": "code",
   "execution_count": 14,
   "id": "primary-worst",
   "metadata": {
    "execution": {
     "iopub.execute_input": "2022-02-02T07:21:38.025547Z",
     "iopub.status.busy": "2022-02-02T07:21:38.024464Z",
     "iopub.status.idle": "2022-02-02T07:21:38.065394Z",
     "shell.execute_reply": "2022-02-02T07:21:38.065980Z",
     "shell.execute_reply.started": "2022-02-02T07:13:58.787383Z"
    },
    "papermill": {
     "duration": 0.079558,
     "end_time": "2022-02-02T07:21:38.066165",
     "exception": false,
     "start_time": "2022-02-02T07:21:37.986607",
     "status": "completed"
    },
    "tags": []
   },
   "outputs": [],
   "source": [
    "#Removing outliers\n",
    "\n",
    "z_scores = stats.zscore(Data)\n",
    "\n",
    "\n",
    "abs_z_scores = np.abs(z_scores)\n",
    "filtered_entries = (abs_z_scores < 10).all(axis=1)\n",
    "New_Dataset = Data[filtered_entries]"
   ]
  },
  {
   "cell_type": "code",
   "execution_count": 15,
   "id": "wrapped-maker",
   "metadata": {
    "execution": {
     "iopub.execute_input": "2022-02-02T07:21:38.141415Z",
     "iopub.status.busy": "2022-02-02T07:21:38.140165Z",
     "iopub.status.idle": "2022-02-02T07:21:38.495199Z",
     "shell.execute_reply": "2022-02-02T07:21:38.495823Z",
     "shell.execute_reply.started": "2022-02-02T07:14:03.926981Z"
    },
    "papermill": {
     "duration": 0.396057,
     "end_time": "2022-02-02T07:21:38.496033",
     "exception": false,
     "start_time": "2022-02-02T07:21:38.099976",
     "status": "completed"
    },
    "tags": []
   },
   "outputs": [
    {
     "data": {
      "text/plain": [
       "<AxesSubplot:xlabel='price'>"
      ]
     },
     "execution_count": 15,
     "metadata": {},
     "output_type": "execute_result"
    },
    {
     "data": {
      "image/png": "[encoded data removed]",
      "text/plain": [
       "<Figure size 432x288 with 1 Axes>"
      ]
     },
     "metadata": {
      "needs_background": "light"
     },
     "output_type": "display_data"
    }
   ],
   "source": [
    "#check for outliers\n",
    "sns.boxplot(x= New_Dataset.price)"
   ]
  },
  {
   "cell_type": "markdown",
   "id": "latest-modeling",
   "metadata": {
    "papermill": {
     "duration": 0.034909,
     "end_time": "2022-02-02T07:21:38.565771",
     "exception": false,
     "start_time": "2022-02-02T07:21:38.530862",
     "status": "completed"
    },
    "tags": []
   },
   "source": [
    "Now since we are done with our data.\n",
    "1. We have cleaned the data.\n",
    "2. We have converted all categorial data into float.\n",
    "3. Now we can apply ML model on Data."
   ]
  },
  {
   "cell_type": "code",
   "execution_count": 16,
   "id": "available-warrant",
   "metadata": {
    "execution": {
     "iopub.execute_input": "2022-02-02T07:21:38.640658Z",
     "iopub.status.busy": "2022-02-02T07:21:38.639960Z",
     "iopub.status.idle": "2022-02-02T07:21:38.657617Z",
     "shell.execute_reply": "2022-02-02T07:21:38.658272Z",
     "shell.execute_reply.started": "2022-02-02T07:14:08.278577Z"
    },
    "papermill": {
     "duration": 0.056433,
     "end_time": "2022-02-02T07:21:38.658483",
     "exception": false,
     "start_time": "2022-02-02T07:21:38.602050",
     "status": "completed"
    },
    "tags": []
   },
   "outputs": [
    {
     "data": {
      "text/html": [
       "<div>\n",
       "<style scoped>\n",
       "    .dataframe tbody tr th:only-of-type {\n",
       "        vertical-align: middle;\n",
       "    }\n",
       "\n",
       "    .dataframe tbody tr th {\n",
       "        vertical-align: top;\n",
       "    }\n",
       "\n",
       "    .dataframe thead th {\n",
       "        text-align: right;\n",
       "    }\n",
       "</style>\n",
       "<table border=\"1\" class=\"dataframe\">\n",
       "  <thead>\n",
       "    <tr style=\"text-align: right;\">\n",
       "      <th></th>\n",
       "      <th>status</th>\n",
       "      <th>price</th>\n",
       "      <th>category_name_1</th>\n",
       "      <th>payment_method</th>\n",
       "    </tr>\n",
       "  </thead>\n",
       "  <tbody>\n",
       "    <tr>\n",
       "      <th>0</th>\n",
       "      <td>1.0</td>\n",
       "      <td>1950.0</td>\n",
       "      <td>0.1</td>\n",
       "      <td>1.10</td>\n",
       "    </tr>\n",
       "    <tr>\n",
       "      <th>1</th>\n",
       "      <td>0.0</td>\n",
       "      <td>240.0</td>\n",
       "      <td>0.2</td>\n",
       "      <td>1.10</td>\n",
       "    </tr>\n",
       "    <tr>\n",
       "      <th>2</th>\n",
       "      <td>0.0</td>\n",
       "      <td>2450.0</td>\n",
       "      <td>0.1</td>\n",
       "      <td>1.10</td>\n",
       "    </tr>\n",
       "    <tr>\n",
       "      <th>3</th>\n",
       "      <td>1.0</td>\n",
       "      <td>360.0</td>\n",
       "      <td>0.2</td>\n",
       "      <td>1.10</td>\n",
       "    </tr>\n",
       "    <tr>\n",
       "      <th>4</th>\n",
       "      <td>0.0</td>\n",
       "      <td>555.0</td>\n",
       "      <td>0.3</td>\n",
       "      <td>1.10</td>\n",
       "    </tr>\n",
       "    <tr>\n",
       "      <th>...</th>\n",
       "      <td>...</td>\n",
       "      <td>...</td>\n",
       "      <td>...</td>\n",
       "      <td>...</td>\n",
       "    </tr>\n",
       "    <tr>\n",
       "      <th>584519</th>\n",
       "      <td>0.0</td>\n",
       "      <td>699.0</td>\n",
       "      <td>0.1</td>\n",
       "      <td>1.10</td>\n",
       "    </tr>\n",
       "    <tr>\n",
       "      <th>584520</th>\n",
       "      <td>0.0</td>\n",
       "      <td>35599.0</td>\n",
       "      <td>0.4</td>\n",
       "      <td>1.88</td>\n",
       "    </tr>\n",
       "    <tr>\n",
       "      <th>584521</th>\n",
       "      <td>0.0</td>\n",
       "      <td>129999.0</td>\n",
       "      <td>0.4</td>\n",
       "      <td>1.88</td>\n",
       "    </tr>\n",
       "    <tr>\n",
       "      <th>584522</th>\n",
       "      <td>0.0</td>\n",
       "      <td>87300.0</td>\n",
       "      <td>0.4</td>\n",
       "      <td>1.88</td>\n",
       "    </tr>\n",
       "    <tr>\n",
       "      <th>584523</th>\n",
       "      <td>0.0</td>\n",
       "      <td>108640.0</td>\n",
       "      <td>0.4</td>\n",
       "      <td>1.88</td>\n",
       "    </tr>\n",
       "  </tbody>\n",
       "</table>\n",
       "<p>584381 rows × 4 columns</p>\n",
       "</div>"
      ],
      "text/plain": [
       "        status     price  category_name_1  payment_method\n",
       "0          1.0    1950.0              0.1            1.10\n",
       "1          0.0     240.0              0.2            1.10\n",
       "2          0.0    2450.0              0.1            1.10\n",
       "3          1.0     360.0              0.2            1.10\n",
       "4          0.0     555.0              0.3            1.10\n",
       "...        ...       ...              ...             ...\n",
       "584519     0.0     699.0              0.1            1.10\n",
       "584520     0.0   35599.0              0.4            1.88\n",
       "584521     0.0  129999.0              0.4            1.88\n",
       "584522     0.0   87300.0              0.4            1.88\n",
       "584523     0.0  108640.0              0.4            1.88\n",
       "\n",
       "[584381 rows x 4 columns]"
      ]
     },
     "execution_count": 16,
     "metadata": {},
     "output_type": "execute_result"
    }
   ],
   "source": [
    "New_Dataset.shape\n",
    "New_Dataset.head(5000000)"
   ]
  },
  {
   "cell_type": "markdown",
   "id": "floppy-absolute",
   "metadata": {
    "papermill": {
     "duration": 0.034847,
     "end_time": "2022-02-02T07:21:38.728742",
     "exception": false,
     "start_time": "2022-02-02T07:21:38.693895",
     "status": "completed"
    },
    "tags": []
   },
   "source": [
    "**ML model start here**"
   ]
  },
  {
   "cell_type": "code",
   "execution_count": 17,
   "id": "difficult-observer",
   "metadata": {
    "execution": {
     "iopub.execute_input": "2022-02-02T07:21:38.804117Z",
     "iopub.status.busy": "2022-02-02T07:21:38.803313Z",
     "iopub.status.idle": "2022-02-02T07:21:38.820082Z",
     "shell.execute_reply": "2022-02-02T07:21:38.820701Z",
     "shell.execute_reply.started": "2022-02-02T07:15:04.865981Z"
    },
    "papermill": {
     "duration": 0.057035,
     "end_time": "2022-02-02T07:21:38.820892",
     "exception": false,
     "start_time": "2022-02-02T07:21:38.763857",
     "status": "completed"
    },
    "tags": []
   },
   "outputs": [
    {
     "data": {
      "text/html": [
       "<div>\n",
       "<style scoped>\n",
       "    .dataframe tbody tr th:only-of-type {\n",
       "        vertical-align: middle;\n",
       "    }\n",
       "\n",
       "    .dataframe tbody tr th {\n",
       "        vertical-align: top;\n",
       "    }\n",
       "\n",
       "    .dataframe thead th {\n",
       "        text-align: right;\n",
       "    }\n",
       "</style>\n",
       "<table border=\"1\" class=\"dataframe\">\n",
       "  <thead>\n",
       "    <tr style=\"text-align: right;\">\n",
       "      <th></th>\n",
       "      <th>price</th>\n",
       "      <th>category_name_1</th>\n",
       "      <th>payment_method</th>\n",
       "    </tr>\n",
       "  </thead>\n",
       "  <tbody>\n",
       "    <tr>\n",
       "      <th>0</th>\n",
       "      <td>1950.0</td>\n",
       "      <td>0.1</td>\n",
       "      <td>1.1</td>\n",
       "    </tr>\n",
       "    <tr>\n",
       "      <th>1</th>\n",
       "      <td>240.0</td>\n",
       "      <td>0.2</td>\n",
       "      <td>1.1</td>\n",
       "    </tr>\n",
       "    <tr>\n",
       "      <th>2</th>\n",
       "      <td>2450.0</td>\n",
       "      <td>0.1</td>\n",
       "      <td>1.1</td>\n",
       "    </tr>\n",
       "    <tr>\n",
       "      <th>3</th>\n",
       "      <td>360.0</td>\n",
       "      <td>0.2</td>\n",
       "      <td>1.1</td>\n",
       "    </tr>\n",
       "    <tr>\n",
       "      <th>4</th>\n",
       "      <td>555.0</td>\n",
       "      <td>0.3</td>\n",
       "      <td>1.1</td>\n",
       "    </tr>\n",
       "  </tbody>\n",
       "</table>\n",
       "</div>"
      ],
      "text/plain": [
       "    price  category_name_1  payment_method\n",
       "0  1950.0              0.1             1.1\n",
       "1   240.0              0.2             1.1\n",
       "2  2450.0              0.1             1.1\n",
       "3   360.0              0.2             1.1\n",
       "4   555.0              0.3             1.1"
      ]
     },
     "execution_count": 17,
     "metadata": {},
     "output_type": "execute_result"
    }
   ],
   "source": [
    "Lbls= New_Dataset.status\n",
    "#Expls= New_Dataset[\"price\"]\n",
    "Exmpls = New_Dataset.loc[:,('price','category_name_1', 'payment_method')]\n",
    "Exmpls.head()"
   ]
  },
  {
   "cell_type": "code",
   "execution_count": 18,
   "id": "natural-profession",
   "metadata": {
    "execution": {
     "iopub.execute_input": "2022-02-02T07:21:38.900389Z",
     "iopub.status.busy": "2022-02-02T07:21:38.898732Z",
     "iopub.status.idle": "2022-02-02T07:21:39.192316Z",
     "shell.execute_reply": "2022-02-02T07:21:39.191719Z",
     "shell.execute_reply.started": "2022-02-02T07:15:07.338004Z"
    },
    "papermill": {
     "duration": 0.335171,
     "end_time": "2022-02-02T07:21:39.192494",
     "exception": false,
     "start_time": "2022-02-02T07:21:38.857323",
     "status": "completed"
    },
    "tags": []
   },
   "outputs": [],
   "source": [
    "#Split data for training and testing\n",
    "from sklearn.model_selection import train_test_split\n",
    "#from sklearn.cross_validation import train_test_split\n",
    "Xtrain, Xtest, Ytrain, Ytest= train_test_split(Exmpls, Lbls, test_size=0.3, shuffle=True)\n"
   ]
  },
  {
   "cell_type": "code",
   "execution_count": 19,
   "id": "international-desktop",
   "metadata": {
    "execution": {
     "iopub.execute_input": "2022-02-02T07:21:39.270378Z",
     "iopub.status.busy": "2022-02-02T07:21:39.269682Z",
     "iopub.status.idle": "2022-02-02T07:21:41.321034Z",
     "shell.execute_reply": "2022-02-02T07:21:41.320485Z",
     "shell.execute_reply.started": "2022-02-02T07:15:09.711811Z"
    },
    "papermill": {
     "duration": 2.092302,
     "end_time": "2022-02-02T07:21:41.321229",
     "exception": false,
     "start_time": "2022-02-02T07:21:39.228927",
     "status": "completed"
    },
    "tags": []
   },
   "outputs": [
    {
     "data": {
      "text/plain": [
       "KNeighborsClassifier()"
      ]
     },
     "execution_count": 19,
     "metadata": {},
     "output_type": "execute_result"
    }
   ],
   "source": [
    "#Using supervisied learning algorithum: K nearest neigbhor\n",
    "from sklearn.neighbors import KNeighborsClassifier\n",
    "K_NN_model= KNeighborsClassifier(n_neighbors=5)\n",
    "K_NN_model.fit(Xtrain,Ytrain)"
   ]
  },
  {
   "cell_type": "code",
   "execution_count": 20,
   "id": "sporting-missouri",
   "metadata": {
    "execution": {
     "iopub.execute_input": "2022-02-02T07:21:41.398540Z",
     "iopub.status.busy": "2022-02-02T07:21:41.397474Z",
     "iopub.status.idle": "2022-02-02T07:21:52.803641Z",
     "shell.execute_reply": "2022-02-02T07:21:52.804237Z",
     "shell.execute_reply.started": "2022-02-02T07:15:13.524144Z"
    },
    "papermill": {
     "duration": 11.446922,
     "end_time": "2022-02-02T07:21:52.804481",
     "exception": false,
     "start_time": "2022-02-02T07:21:41.357559",
     "status": "completed"
    },
    "tags": []
   },
   "outputs": [
    {
     "data": {
      "text/plain": [
       "array([0., 1., 0., ..., 0., 1., 1.])"
      ]
     },
     "execution_count": 20,
     "metadata": {},
     "output_type": "execute_result"
    }
   ],
   "source": [
    "# testing the model on testing data\n",
    "Result=K_NN_model.predict(Xtest)\n",
    "Result"
   ]
  },
  {
   "cell_type": "code",
   "execution_count": 21,
   "id": "designing-wildlife",
   "metadata": {
    "execution": {
     "iopub.execute_input": "2022-02-02T07:21:52.883947Z",
     "iopub.status.busy": "2022-02-02T07:21:52.882875Z",
     "iopub.status.idle": "2022-02-02T07:22:04.130963Z",
     "shell.execute_reply": "2022-02-02T07:22:04.130425Z",
     "shell.execute_reply.started": "2022-02-02T07:15:25.049987Z"
    },
    "papermill": {
     "duration": 11.288647,
     "end_time": "2022-02-02T07:22:04.131122",
     "exception": false,
     "start_time": "2022-02-02T07:21:52.842475",
     "status": "completed"
    },
    "tags": []
   },
   "outputs": [
    {
     "data": {
      "text/plain": [
       "0.6707241251461655"
      ]
     },
     "execution_count": 21,
     "metadata": {},
     "output_type": "execute_result"
    }
   ],
   "source": [
    "#Calculating model accuracy\n",
    "K_NN_model.score(Xtest, Ytest)"
   ]
  },
  {
   "cell_type": "code",
   "execution_count": 22,
   "id": "expanded-choir",
   "metadata": {
    "execution": {
     "iopub.execute_input": "2022-02-02T07:22:04.208453Z",
     "iopub.status.busy": "2022-02-02T07:22:04.207739Z",
     "iopub.status.idle": "2022-02-02T07:22:16.426276Z",
     "shell.execute_reply": "2022-02-02T07:22:16.425678Z",
     "shell.execute_reply.started": "2022-02-02T07:15:45.231574Z"
    },
    "papermill": {
     "duration": 12.259014,
     "end_time": "2022-02-02T07:22:16.426693",
     "exception": false,
     "start_time": "2022-02-02T07:22:04.167679",
     "status": "completed"
    },
    "tags": []
   },
   "outputs": [
    {
     "name": "stdout",
     "output_type": "stream",
     "text": [
      "              precision    recall  f1-score   support\n",
      "\n",
      "         0.0       0.65      0.63      0.64     81941\n",
      "         1.0       0.69      0.70      0.70     93374\n",
      "\n",
      "    accuracy                           0.67    175315\n",
      "   macro avg       0.67      0.67      0.67    175315\n",
      "weighted avg       0.67      0.67      0.67    175315\n",
      "\n"
     ]
    },
    {
     "data": {
      "image/png": "[encoded data removed]",
      "text/plain": [
       "<Figure size 432x288 with 2 Axes>"
      ]
     },
     "metadata": {
      "needs_background": "light"
     },
     "output_type": "display_data"
    }
   ],
   "source": [
    "# Plotting confusion matrix\n",
    "from sklearn.metrics import plot_confusion_matrix\n",
    "plot_confusion_matrix(K_NN_model, Xtest, Ytest)\n",
    "\n",
    "# Classification report\n",
    "from sklearn.metrics import classification_report\n",
    "print(classification_report(Ytest,Result))"
   ]
  },
  {
   "cell_type": "markdown",
   "id": "disciplinary-commonwealth",
   "metadata": {
    "papermill": {
     "duration": 0.053874,
     "end_time": "2022-02-02T07:22:16.529797",
     "exception": false,
     "start_time": "2022-02-02T07:22:16.475923",
     "status": "completed"
    },
    "tags": []
   },
   "source": [
    "Evaluting Model in terms of Overfitting and Underfitting"
   ]
  },
  {
   "cell_type": "code",
   "execution_count": 23,
   "id": "ordered-criminal",
   "metadata": {
    "execution": {
     "iopub.execute_input": "2022-02-02T07:22:16.630885Z",
     "iopub.status.busy": "2022-02-02T07:22:16.629577Z",
     "iopub.status.idle": "2022-02-02T07:22:16.635259Z",
     "shell.execute_reply": "2022-02-02T07:22:16.635922Z",
     "shell.execute_reply.started": "2022-02-02T07:18:06.791369Z"
    },
    "papermill": {
     "duration": 0.051827,
     "end_time": "2022-02-02T07:22:16.636129",
     "exception": false,
     "start_time": "2022-02-02T07:22:16.584302",
     "status": "completed"
    },
    "tags": []
   },
   "outputs": [],
   "source": [
    "# Evaluating model as underfitting and overfitting\n",
    "\n",
    "total_train_accuracy = []\n",
    "total_test_accuracy = []\n",
    "neighbors = np.arange(0,9)"
   ]
  },
  {
   "cell_type": "code",
   "execution_count": 24,
   "id": "constitutional-england",
   "metadata": {
    "execution": {
     "iopub.execute_input": "2022-02-02T07:22:16.718459Z",
     "iopub.status.busy": "2022-02-02T07:22:16.717404Z",
     "iopub.status.idle": "2022-02-02T07:22:16.722125Z",
     "shell.execute_reply": "2022-02-02T07:22:16.722762Z",
     "shell.execute_reply.started": "2022-02-02T07:18:30.903392Z"
    },
    "papermill": {
     "duration": 0.048889,
     "end_time": "2022-02-02T07:22:16.722953",
     "exception": false,
     "start_time": "2022-02-02T07:22:16.674064",
     "status": "completed"
    },
    "tags": []
   },
   "outputs": [],
   "source": [
    "# for loop\n",
    "#for i in range (8):\n",
    "#    Knn= KNeighborsClassifier(n_neighbors=i+1)\n",
    "    \n",
    "    # model training\n",
    "#    Knn.fit(Xtrain, Ytrain)\n",
    "    \n",
    "    # train accuracy\n",
    "#    train_accuracy= Knn.score(Xtrain,Ytrain)\n",
    "    \n",
    "    # test acuracy\n",
    "#    test_accuracy= Knn.score(Xtest, Ytest)\n",
    "    \n",
    "#    total_train_accuracy.append(train_accuracy)\n",
    "#    total_test_accuracy.append(test_accuracy)"
   ]
  },
  {
   "cell_type": "code",
   "execution_count": 25,
   "id": "structural-console",
   "metadata": {
    "execution": {
     "iopub.execute_input": "2022-02-02T07:22:16.803400Z",
     "iopub.status.busy": "2022-02-02T07:22:16.802234Z",
     "iopub.status.idle": "2022-02-02T07:22:16.806486Z",
     "shell.execute_reply": "2022-02-02T07:22:16.807038Z"
    },
    "papermill": {
     "duration": 0.046535,
     "end_time": "2022-02-02T07:22:16.807234",
     "exception": false,
     "start_time": "2022-02-02T07:22:16.760699",
     "status": "completed"
    },
    "tags": []
   },
   "outputs": [],
   "source": [
    "\n",
    "# plotting results for model\n",
    "#plt.plot(neighbors, total_test_accuracy)\n",
    "#plt.plot(neighbors, total_train_accuracy)\n",
    "#plt.show()"
   ]
  },
  {
   "cell_type": "code",
   "execution_count": null,
   "id": "suitable-importance",
   "metadata": {
    "papermill": {
     "duration": 0.041543,
     "end_time": "2022-02-02T07:22:16.888097",
     "exception": false,
     "start_time": "2022-02-02T07:22:16.846554",
     "status": "completed"
    },
    "tags": []
   },
   "outputs": [],
   "source": []
  }
 ],
 "metadata": {
  "kernelspec": {
   "display_name": "Python 3",
   "language": "python",
   "name": "python3"
  },
  "language_info": {
   "codemirror_mode": {
    "name": "ipython",
    "version": 3
   },
   "file_extension": ".py",
   "mimetype": "text/x-python",
   "name": "python",
   "nbconvert_exporter": "python",
   "pygments_lexer": "ipython3",
   "version": "3.7.10"
  },
  "papermill": {
   "default_parameters": {},
   "duration": 59.975785,
   "end_time": "2022-02-02T07:22:18.887494",
   "environment_variables": {},
   "exception": null,
   "input_path": "__notebook__.ipynb",
   "output_path": "__notebook__.ipynb",
   "parameters": {},
   "start_time": "2022-02-02T07:21:18.911709",
   "version": "2.3.3"
  }
 },
 "nbformat": 4,
 "nbformat_minor": 5
}
